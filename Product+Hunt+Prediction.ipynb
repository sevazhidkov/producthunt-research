{
 "cells": [
  {
   "cell_type": "code",
   "execution_count": 154,
   "metadata": {
    "ExecuteTime": {
     "end_time": "2017-04-15T20:26:46.699446Z",
     "start_time": "2017-04-15T20:26:46.692242"
    },
    "collapsed": false
   },
   "outputs": [],
   "source": [
    "%matplotlib inline\n",
    "import numpy as np\n",
    "import matplotlib.pyplot as plt\n",
    "import seaborn as sns\n",
    "\n",
    "from pymongo import MongoClient\n",
    "import requests\n",
    "\n",
    "from tqdm import tqdm\n",
    "from collections import Counter\n",
    "\n",
    "from nltk.tokenize import word_tokenize\n",
    "from nltk.corpus import stopwords\n",
    "\n",
    "from keras.preprocessing.sequence import pad_sequences\n",
    "from keras.datasets import imdb\n",
    "from keras.models import Sequential\n",
    "from keras.layers import Dense\n",
    "from keras.layers import LSTM\n",
    "from keras.layers.embeddings import Embedding\n",
    "from keras.callbacks import ProgbarLogger, Callback"
   ]
  },
  {
   "cell_type": "code",
   "execution_count": 42,
   "metadata": {
    "ExecuteTime": {
     "end_time": "2017-04-15T11:16:24.391146Z",
     "start_time": "2017-04-15T11:16:24.383980"
    },
    "collapsed": true
   },
   "outputs": [],
   "source": [
    "db = MongoClient()['sheldon']\n",
    "mongo = db.producthunt"
   ]
  },
  {
   "cell_type": "code",
   "execution_count": 12,
   "metadata": {
    "ExecuteTime": {
     "end_time": "2017-04-15T10:41:19.051943Z",
     "start_time": "2017-04-15T10:41:17.879289"
    },
    "collapsed": true
   },
   "outputs": [],
   "source": [
    "resp = requests.get('https://api.producthunt.com/v1/posts?days_ago=1000',\n",
    "                    headers={\n",
    "                        'Authorization': 'Bearer XXX'\n",
    "                    })"
   ]
  },
  {
   "cell_type": "code",
   "execution_count": null,
   "metadata": {
    "ExecuteTime": {
     "end_time": "2017-04-15T11:18:57.038905Z",
     "start_time": "2017-04-15T11:18:57.034459"
    },
    "collapsed": false
   },
   "outputs": [],
   "source": [
    "mongo.delete_many({})"
   ]
  },
  {
   "cell_type": "code",
   "execution_count": null,
   "metadata": {
    "ExecuteTime": {
     "end_time": "2017-04-15T11:47:00.015059Z",
     "start_time": "2017-04-15T11:18:57.568742"
    },
    "collapsed": false
   },
   "outputs": [],
   "source": [
    "posts = []\n",
    "for i in tqdm(range(1, 1001)):\n",
    "    resp = requests.get(\n",
    "        'https://api.producthunt.com/v1/posts?days_ago={}'.format(i), \n",
    "         headers={'Authorization': 'Bearer XXX'}\n",
    "    )\n",
    "    documents = []\n",
    "    for post in resp.json()['posts']:\n",
    "        if post['category_id'] != 1:\n",
    "            continue\n",
    "        documents.append({'text': post['tagline'], '_id': post['id'], 'score': post['votes_count']})\n",
    "    mongo.insert_many(documents)"
   ]
  },
  {
   "cell_type": "code",
   "execution_count": 56,
   "metadata": {
    "ExecuteTime": {
     "end_time": "2017-04-15T11:47:27.653723Z",
     "start_time": "2017-04-15T11:47:27.650332"
    },
    "collapsed": false
   },
   "outputs": [
    {
     "data": {
      "text/plain": [
       "25455"
      ]
     },
     "execution_count": 56,
     "metadata": {},
     "output_type": "execute_result"
    }
   ],
   "source": [
    "mongo.find().count()"
   ]
  },
  {
   "cell_type": "code",
   "execution_count": 40,
   "metadata": {
    "ExecuteTime": {
     "end_time": "2017-04-15T11:15:13.397562Z",
     "start_time": "2017-04-15T11:15:13.394543"
    },
    "collapsed": false
   },
   "outputs": [
    {
     "data": {
      "text/plain": [
       "11"
      ]
     },
     "execution_count": 40,
     "metadata": {},
     "output_type": "execute_result"
    }
   ],
   "source": [
    "len(posts)"
   ]
  },
  {
   "cell_type": "code",
   "execution_count": 77,
   "metadata": {
    "ExecuteTime": {
     "end_time": "2017-04-15T11:59:59.324907Z",
     "start_time": "2017-04-15T11:59:58.965380"
    },
    "collapsed": false
   },
   "outputs": [
    {
     "name": "stderr",
     "output_type": "stream",
     "text": [
      "\n",
      "0it [00:00, ?it/s]\u001b[A\n",
      "102it [00:00, 372.42it/s]\u001b[A\n",
      "25455it [00:00, 71672.64it/s]\u001b[A"
     ]
    }
   ],
   "source": [
    "scores = []\n",
    "for item in tqdm(mongo.find()):\n",
    "    scores.append((item['_id'], item['score'], item['text']))"
   ]
  },
  {
   "cell_type": "code",
   "execution_count": 75,
   "metadata": {
    "ExecuteTime": {
     "end_time": "2017-04-15T11:54:50.164954Z",
     "start_time": "2017-04-15T11:54:49.902066"
    },
    "collapsed": false
   },
   "outputs": [
    {
     "data": {
      "text/plain": [
       "<matplotlib.axes._subplots.AxesSubplot at 0x7f1b12ad2fd0>"
      ]
     },
     "execution_count": 75,
     "metadata": {},
     "output_type": "execute_result"
    },
    {
     "name": "stderr",
     "output_type": "stream",
     "text": [
      "/home/sheldonai/anaconda3/lib/python3.6/site-packages/matplotlib/font_manager.py:1297: UserWarning: findfont: Font family ['sans-serif'] not found. Falling back to DejaVu Sans\n",
      "  (prop.get_family(), self.defaultFamily[fontext]))\n"
     ]
    },
    {
     "data": {
      "image/png": "[encoded data removed]",
      "text/plain": [
       "<matplotlib.figure.Figure at 0x7f1b12ab1b38>"
      ]
     },
     "metadata": {},
     "output_type": "display_data"
    }
   ],
   "source": [
    "sns.distplot([x[1] for x in scores if x[1] < 1000])"
   ]
  },
  {
   "cell_type": "code",
   "execution_count": 121,
   "metadata": {
    "ExecuteTime": {
     "end_time": "2017-04-15T20:01:47.628676Z",
     "start_time": "2017-04-15T20:01:47.182265"
    },
    "collapsed": false
   },
   "outputs": [],
   "source": [
    "scores_limit = 750\n",
    "x_data, y_data = [], []\n",
    "for item in mongo.find():\n",
    "    x_data.append(item['text'].lower())\n",
    "    y_data.append(min(item['score'], scores_limit))"
   ]
  },
  {
   "cell_type": "markdown",
   "metadata": {},
   "source": [
    "## Char RNN"
   ]
  },
  {
   "cell_type": "code",
   "execution_count": 88,
   "metadata": {
    "ExecuteTime": {
     "end_time": "2017-04-15T12:10:50.690210Z",
     "start_time": "2017-04-15T12:10:50.309647"
    },
    "collapsed": false
   },
   "outputs": [
    {
     "name": "stdout",
     "output_type": "stream",
     "text": [
      "Total vocab size: 452\n",
      "Bigger than 50 occurances vocab: 56\n",
      "[(' ', 161616), ('e', 108088), ('o', 81783), ('t', 77169), ('a', 76157), ('r', 69511), ('i', 65870), ('s', 65836), ('n', 61543), ('l', 39376), ('c', 34598), ('d', 33587), ('u', 31074), ('p', 28649), ('h', 27132), ('m', 26788), ('f', 22816), ('y', 21886), ('g', 20363), ('w', 16281), ('b', 15538), ('v', 11236), ('k', 10228), ('.', 5008), (',', 4748), ('-', 3678), ('x', 2574), ('&', 1887), ('j', 1531), (\"'\", 1503), ('z', 1428), ('0', 1113), ('q', 837), (')', 824), ('(', 818), ('1', 684), ('!', 661), ('/', 570), ('2', 439), ('3', 411), ('+', 356), ('5', 342), ('’', 243), ('6', 242), ('\"', 229), ('4', 226), ('9', 209), ('$', 165), ('8', 163), ('?', 162), (':', 124), ('7', 107), ('#', 63), ('%', 61), ('️', 60), ('…', 51)]\n"
     ]
    }
   ],
   "source": [
    "counter = Counter()\n",
    "for text in x_data:\n",
    "    for sym in text:\n",
    "        counter[sym] += 1\n",
    "print('Total vocab size:', len(counter))\n",
    "i = 0\n",
    "for sym, num in counter.most_common():\n",
    "    if num >= 50:\n",
    "        i += 1\n",
    "print('Bigger than 50 occurances vocab:', i)\n",
    "print(counter.most_common(56))"
   ]
  },
  {
   "cell_type": "code",
   "execution_count": 181,
   "metadata": {
    "ExecuteTime": {
     "end_time": "2017-04-15T22:18:37.490868Z",
     "start_time": "2017-04-15T22:18:37.488721"
    },
    "collapsed": true
   },
   "outputs": [],
   "source": [
    "# Not implemented yet."
   ]
  },
  {
   "cell_type": "markdown",
   "metadata": {},
   "source": [
    "## Word RNN"
   ]
  },
  {
   "cell_type": "code",
   "execution_count": 94,
   "metadata": {
    "ExecuteTime": {
     "end_time": "2017-04-15T12:17:14.595631Z",
     "start_time": "2017-04-15T12:17:14.579112"
    },
    "collapsed": true
   },
   "outputs": [],
   "source": [
    "stopwords_list = stopwords.words('english')"
   ]
  },
  {
   "cell_type": "code",
   "execution_count": 99,
   "metadata": {
    "ExecuteTime": {
     "end_time": "2017-04-15T12:20:09.575147Z",
     "start_time": "2017-04-15T12:20:06.602666"
    },
    "collapsed": false
   },
   "outputs": [
    {
     "name": "stdout",
     "output_type": "stream",
     "text": [
      "Total vocab size: 14635\n",
      "Bigger than 100 occurances vocab: 236\n",
      "[(',', 4690), ('.', 4654), ('&', 1887), ('app', 1396), (\"'s\", 1084), ('new', 843), (')', 824), ('(', 818), ('way', 785), ('create', 778), ('get', 700), ('share', 682), ('!', 661), ('free', 642), ('simple', 620), ('find', 616), ('best', 612), ('web', 535), ('world', 534), ('ios', 519), ('video', 487), ('friends', 481), ('mobile', 478), ('music', 473), ('one', 468), ('discover', 453), ('beautiful', 451), ('make', 434), ('people', 431), ('photos', 415), ('design', 410), ('iphone', 403), ('slack', 402), ('mac', 398), ('smart', 393), ('apps', 390), ('email', 387), ('videos', 383), ('social', 372), ('online', 359), ('time', 357), ('platform', 350), ('phone', 341), ('turn', 340), ('first', 336), ('tool', 324), ('easy', 314), ('build', 309), ('data', 308), ('watch', 308), ('live', 303), ('product', 298), ('every', 298), ('send', 296), ('news', 293), ('curated', 276), ('track', 276), ('text', 273), ('search', 270), ('content', 268), ('personal', 265), ('chat', 264), ('android', 257), ('website', 253), ('better', 252), ('google', 251), ('facebook', 249), ('made', 247), ('service', 243), ('game', 240), ('open', 237), ('twitter', 237), ('home', 236), ('using', 234), ('real', 233), ('favorite', 231), ('bot', 230), ('business', 228), ('easiest', 228), ('like', 224), ('learn', 223), ('photo', 223), ('help', 222), ('code', 221), ('apple', 221), ('team', 218), ('see', 218), ('daily', 213), ('use', 212), ('startup', 211), ('messenger', 206), ('without', 206), ('day', 205), ('easily', 203), ('+', 201), ('browser', 193), ('place', 192), ('products', 190), ('keyboard', 190), ('based', 186), ('fast', 185), ('manage', 184), ('life', 184), ('instagram', 183), ('chrome', 182), ('-', 181), ('book', 178), ('custom', 177), ('management', 177), ('tools', 177), ('real-time', 176), ('analytics', 175), ('source', 175), ('community', 174), ('add', 173), ('emoji', 172), ('gifs', 172), ('hunt', 172), ('digital', 170), ('tech', 169), ('stories', 169), ('work', 168), ('interactive', 168), ('$', 165), ('fun', 165), ('tv', 164), ('w/', 163), ('top', 162), ('?', 162), ('art', 160), ('startups', 160), ('media', 159), ('anywhere', 158), ('network', 157), ('camera', 155), ('right', 155), ('go', 155), ('site', 155), ('travel', 154), ('pre-launch', 152), ('api', 150), ('via', 150), ('delivered', 149), ('awesome', 148), ('list', 147), ('play', 147), ('around', 146), ('marketing', 145), ('developers', 145), ('great', 145), ('experience', 144), ('software', 142), ('minutes', 142), ('3d', 142), ('things', 140), ('images', 139), ('powerful', 137), ('ai', 136), ('keep', 136), ('buy', 136), ('seconds', 135), ('screen', 135), ('control', 134), ('marketplace', 133), ('sharing', 133), ('kids', 132), ('device', 132), ('messaging', 131), ('tracking', 131), ('take', 131), ('collection', 131), ('cloud', 131), ('messages', 130), ('next', 130), ('stickers', 130), ('designers', 130), ('on-demand', 130), ('page', 129), ('teams', 128), ('local', 127), ('ideas', 127), ('instantly', 125), (\"n't\", 124), ('editor', 123), ('explore', 123), ('love', 123), (':', 122), ('need', 120), ('money', 119), ('connect', 119), (\"''\", 119), ('virtual', 118), ('personalized', 118), ('emails', 117), ('ipad', 117), ('websites', 116), ('extension', 115), ('never', 115), ('projects', 115), ('assistant', 115), ('internet', 115), ('events', 115), ('visual', 113), ('imessage', 113), ('project', 113), ('anything', 113), ('devices', 112), ('store', 112), ('modern', 111), ('learning', 110), ('tinder', 110), ('resources', 110), ('save', 110), ('everything', 110), ('``', 110), ('users', 108), ('ui', 107), ('youtube', 107), ('audio', 106), ('read', 105), ('food', 105), ('private', 103), ('cards', 103), ('powered', 103), ('animated', 103), ('color', 103), ('links', 102), ('instant', 102), ('tab', 101), ('pocket', 101), ('click', 101), ('coffee', 101), ('back', 101), ('professional', 100), ('companies', 100), ('perfect', 100)]\n"
     ]
    }
   ],
   "source": [
    "counter = Counter()\n",
    "for text in x_data:\n",
    "    for word in word_tokenize(text):\n",
    "        if word not in stopwords_list:\n",
    "            counter[word] += 1\n",
    "print('Total vocab size:', len(counter))\n",
    "i = 0\n",
    "for sym, num in counter.most_common():\n",
    "    if num >= 100:\n",
    "        i += 1\n",
    "print('Bigger than 100 occurances vocab:', i)\n",
    "print(counter.most_common(i))"
   ]
  },
  {
   "cell_type": "code",
   "execution_count": 100,
   "metadata": {
    "ExecuteTime": {
     "end_time": "2017-04-15T14:22:59.949976Z",
     "start_time": "2017-04-15T14:22:59.943104"
    },
    "collapsed": false
   },
   "outputs": [],
   "source": [
    "vocab_size = 236\n",
    "vocab_list = [x[0] for x in counter.most_common(vocab_size)]"
   ]
  },
  {
   "cell_type": "code",
   "execution_count": 102,
   "metadata": {
    "ExecuteTime": {
     "end_time": "2017-04-15T17:10:11.837682Z",
     "start_time": "2017-04-15T17:10:08.282547"
    },
    "collapsed": false
   },
   "outputs": [
    {
     "data": {
      "text/plain": [
       "<matplotlib.axes._subplots.AxesSubplot at 0x7f1b0493ebe0>"
      ]
     },
     "execution_count": 102,
     "metadata": {},
     "output_type": "execute_result"
    },
    {
     "name": "stderr",
     "output_type": "stream",
     "text": [
      "/home/sheldonai/anaconda3/lib/python3.6/site-packages/matplotlib/font_manager.py:1297: UserWarning: findfont: Font family ['sans-serif'] not found. Falling back to DejaVu Sans\n",
      "  (prop.get_family(), self.defaultFamily[fontext]))\n"
     ]
    },
    {
     "data": {
      "image/png": "[encoded data removed]",
      "text/plain": [
       "<matplotlib.figure.Figure at 0x7f1b0493e278>"
      ]
     },
     "metadata": {},
     "output_type": "display_data"
    }
   ],
   "source": [
    "words_num = []\n",
    "for text in x_data:\n",
    "    i = 0\n",
    "    for word in word_tokenize(text):\n",
    "        if word not in stopwords_list:\n",
    "            i += 1\n",
    "    words_num.append(i)\n",
    "sns.distplot(words_num)"
   ]
  },
  {
   "cell_type": "code",
   "execution_count": 103,
   "metadata": {
    "ExecuteTime": {
     "end_time": "2017-04-15T18:05:17.684458Z",
     "start_time": "2017-04-15T18:05:17.682228"
    },
    "collapsed": true
   },
   "outputs": [],
   "source": [
    "seq_size = 10"
   ]
  },
  {
   "cell_type": "code",
   "execution_count": 140,
   "metadata": {
    "ExecuteTime": {
     "end_time": "2017-04-15T20:17:14.053936Z",
     "start_time": "2017-04-15T20:17:10.462553"
    },
    "collapsed": false
   },
   "outputs": [
    {
     "name": "stderr",
     "output_type": "stream",
     "text": [
      "100%|██████████| 25455/25455 [00:03<00:00, 7100.77it/s]\n"
     ]
    }
   ],
   "source": [
    "X = []\n",
    "vocab_set = set(vocab_list)\n",
    "for text in tqdm(x_data):\n",
    "    words = [y for y in word_tokenize(text) if y not in stopwords_list and y in vocab_set]\n",
    "    record = []\n",
    "    for word in words:\n",
    "        for i, vword in enumerate(vocab_list):\n",
    "            if vword == word:\n",
    "                record.append(i)\n",
    "                break\n",
    "    X.append(record)"
   ]
  },
  {
   "cell_type": "code",
   "execution_count": 141,
   "metadata": {
    "ExecuteTime": {
     "end_time": "2017-04-15T20:17:19.090692Z",
     "start_time": "2017-04-15T20:17:18.933463"
    },
    "collapsed": false
   },
   "outputs": [],
   "source": [
    "X = pad_sequences(X, maxlen=seq_size)"
   ]
  },
  {
   "cell_type": "code",
   "execution_count": 125,
   "metadata": {
    "ExecuteTime": {
     "end_time": "2017-04-15T20:02:41.635247Z",
     "start_time": "2017-04-15T20:02:41.628523"
    },
    "collapsed": false
   },
   "outputs": [],
   "source": [
    "Y = []\n",
    "for y in y_data:\n",
    "    Y.append(y / scores_limit)\n",
    "Y = np.array(Y)"
   ]
  },
  {
   "cell_type": "code",
   "execution_count": 143,
   "metadata": {
    "ExecuteTime": {
     "end_time": "2017-04-15T20:17:31.064349Z",
     "start_time": "2017-04-15T20:17:31.061006"
    },
    "collapsed": false
   },
   "outputs": [
    {
     "data": {
      "text/plain": [
       "array([[  0,   0,   0, ...,  47, 151,   1],\n",
       "       [  0,   0,   0, ...,   0,   0,  65],\n",
       "       [  0,   0,   0, ...,   0,  57,  32],\n",
       "       ..., \n",
       "       [  0,   0,   0, ..., 153,  30,   3],\n",
       "       [  0,   0,   0, ...,   0,   0,   2],\n",
       "       [  0,   0,   0, ...,   0,   0,  58]], dtype=int32)"
      ]
     },
     "execution_count": 143,
     "metadata": {},
     "output_type": "execute_result"
    }
   ],
   "source": [
    "X"
   ]
  },
  {
   "cell_type": "code",
   "execution_count": 161,
   "metadata": {
    "ExecuteTime": {
     "end_time": "2017-04-15T20:43:54.212133Z",
     "start_time": "2017-04-15T20:43:53.840413"
    },
    "collapsed": false
   },
   "outputs": [
    {
     "name": "stdout",
     "output_type": "stream",
     "text": [
      "_________________________________________________________________\n",
      "Layer (type)                 Output Shape              Param #   \n",
      "=================================================================\n",
      "embedding_7 (Embedding)      (None, 10, 32)            7552      \n",
      "_________________________________________________________________\n",
      "lstm_7 (LSTM)                (None, 100)               53200     \n",
      "_________________________________________________________________\n",
      "dense_7 (Dense)              (None, 1)                 101       \n",
      "=================================================================\n",
      "Total params: 60,853.0\n",
      "Trainable params: 60,853\n",
      "Non-trainable params: 0.0\n",
      "_________________________________________________________________\n",
      "None\n"
     ]
    }
   ],
   "source": [
    "embedding_vector_length = 32\n",
    "model = Sequential()\n",
    "model.add(Embedding(vocab_size, embedding_vector_length, input_length=seq_size))\n",
    "model.add(LSTM(100))\n",
    "model.add(Dense(1, activation='sigmoid'))\n",
    "model.compile(loss='binary_crossentropy', optimizer='adam', metrics=['accuracy'])\n",
    "print(model.summary())"
   ]
  },
  {
   "cell_type": "code",
   "execution_count": 155,
   "metadata": {
    "ExecuteTime": {
     "end_time": "2017-04-15T20:26:53.501929Z",
     "start_time": "2017-04-15T20:26:53.496223"
    },
    "collapsed": false
   },
   "outputs": [],
   "source": [
    "class LossHistory(Callback):\n",
    "    def on_train_begin(self, logs={}):\n",
    "        self.loss = []\n",
    "        self.acc = []\n",
    "        self.val_loss = []\n",
    "        self.val_acc = []\n",
    "\n",
    "\n",
    "    def on_epoch_end(self, batch, logs={}):\n",
    "        print('Epoch end:', logs.get('loss'))\n",
    "        self.loss.append(logs.get('loss'))\n",
    "        self.acc.append(logs.get('acc'))"
   ]
  },
  {
   "cell_type": "code",
   "execution_count": null,
   "metadata": {
    "ExecuteTime": {
     "end_time": "2017-04-15T21:07:18.507285Z",
     "start_time": "2017-04-15T20:43:58.432459"
    },
    "collapsed": false,
    "scrolled": true
   },
   "outputs": [],
   "source": [
    "history = model.fit(X, Y, epochs=200, verbose=0, callbacks=[LossHistory()],)"
   ]
  },
  {
   "cell_type": "code",
   "execution_count": 163,
   "metadata": {
    "ExecuteTime": {
     "end_time": "2017-04-15T21:07:58.809157Z",
     "start_time": "2017-04-15T21:07:58.616073"
    },
    "collapsed": false
   },
   "outputs": [
    {
     "data": {
      "text/plain": [
       "[<matplotlib.lines.Line2D at 0x7f1aa2d370b8>]"
      ]
     },
     "execution_count": 163,
     "metadata": {},
     "output_type": "execute_result"
    },
    {
     "name": "stderr",
     "output_type": "stream",
     "text": [
      "/home/sheldonai/anaconda3/lib/python3.6/site-packages/matplotlib/font_manager.py:1297: UserWarning: findfont: Font family ['sans-serif'] not found. Falling back to DejaVu Sans\n",
      "  (prop.get_family(), self.defaultFamily[fontext]))\n"
     ]
    },
    {
     "data": {
      "image/png": "[encoded data removed]",
      "text/plain": [
       "<matplotlib.figure.Figure at 0x7f1aa8bec278>"
      ]
     },
     "metadata": {},
     "output_type": "display_data"
    }
   ],
   "source": [
    "plt.plot(history.history['loss'])"
   ]
  },
  {
   "cell_type": "code",
   "execution_count": 166,
   "metadata": {
    "ExecuteTime": {
     "end_time": "2017-04-15T21:11:15.927001Z",
     "start_time": "2017-04-15T21:11:13.452062"
    },
    "collapsed": false
   },
   "outputs": [
    {
     "data": {
      "text/plain": [
       "<matplotlib.axes._subplots.AxesSubplot at 0x7f1aa2c6dba8>"
      ]
     },
     "execution_count": 166,
     "metadata": {},
     "output_type": "execute_result"
    },
    {
     "name": "stderr",
     "output_type": "stream",
     "text": [
      "/home/sheldonai/anaconda3/lib/python3.6/site-packages/matplotlib/font_manager.py:1297: UserWarning: findfont: Font family ['sans-serif'] not found. Falling back to DejaVu Sans\n",
      "  (prop.get_family(), self.defaultFamily[fontext]))\n"
     ]
    },
    {
     "data": {
      "image/png": "[encoded data removed]",
      "text/plain": [
       "<matplotlib.figure.Figure at 0x7f1aa2d5c940>"
      ]
     },
     "metadata": {},
     "output_type": "display_data"
    }
   ],
   "source": [
    "sns.distplot(model.predict(X))\n",
    "sns.distplot(Y)"
   ]
  },
  {
   "cell_type": "markdown",
   "metadata": {},
   "source": [
    "### Demo"
   ]
  },
  {
   "cell_type": "code",
   "execution_count": 180,
   "metadata": {
    "ExecuteTime": {
     "end_time": "2017-04-15T21:25:52.178951Z",
     "start_time": "2017-04-15T21:25:52.171412"
    },
    "collapsed": false
   },
   "outputs": [
    {
     "name": "stdout",
     "output_type": "stream",
     "text": [
      "\"Interactive mystery and unannounced monthly deliveries\" will recieve 182 points\n"
     ]
    }
   ],
   "source": [
    "STARTUP_TAGLINE = 'Interactive mystery and unannounced monthly deliveries'\n",
    "text = word_tokenize(STARTUP_TAGLINE.lower())\n",
    "record = []\n",
    "for word in text:\n",
    "    for i, vword in enumerate(vocab_list):\n",
    "        if word == vword:\n",
    "            record.append(i)\n",
    "            break\n",
    "x_eval = pad_sequences(np.array([record]), maxlen=seq_size)\n",
    "print('\"{}\" will recieve {} points'.format(STARTUP_TAGLINE, \n",
    "                                           int(model.predict(x_eval)[0][0] * scores_limit)))"
   ]
  }
 ],
 "metadata": {
  "kernelspec": {
   "display_name": "Python 3",
   "language": "python",
   "name": "python3"
  }
 },
 "nbformat": 4,
 "nbformat_minor": 2
}
